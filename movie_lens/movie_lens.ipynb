{
  "nbformat": 4,
  "nbformat_minor": 0,
  "metadata": {
    "colab": {
      "name": "movie_lens.ipynb",
      "provenance": []
    },
    "kernelspec": {
      "name": "python3",
      "display_name": "Python 3"
    },
    "language_info": {
      "name": "python"
    }
  },
  "cells": [
    {
      "cell_type": "code",
      "source": [
        "# 1. Baixar o dataset do MovieLens (AVA)\n",
        "# 2. Usar o Pandas para ler o arquivo \"ratings\"\n",
        "# 3. Analisar as primeiras linhas do arquivo bem como o shape do dataframe\n",
        "# 4. Sobrescrever os nomes das colunas\n",
        "# 5. Analisar os valores únicos da coluna que contém a nota\n",
        "# 6. Contar a quantidade de notas aplicadas para cada valor único de nota (value_counts())\n",
        "# 7. Analisar a média das notas dos filmes"
      ],
      "metadata": {
        "id": "HJ0b1zJ_RDnd"
      },
      "execution_count": null,
      "outputs": []
    },
    {
      "cell_type": "code",
      "execution_count": null,
      "metadata": {
        "id": "xrCZNtkmN27k"
      },
      "outputs": [],
      "source": [
        "# 2. Usar o Pandas para ler o arquivo \"ratings\"\n",
        "\n",
        "import pandas as pd\n",
        "ratings = pd.read_csv('../ratings.csv')"
      ]
    },
    {
      "cell_type": "code",
      "source": [
        "# timestamp corrente\n",
        "#ratings['timestamp'].astype(Date)\n",
        "#print(\"Corrente Timestamp: \", date)"
      ],
      "metadata": {
        "id": "HKpwoDLeSHIO"
      },
      "execution_count": null,
      "outputs": []
    },
    {
      "cell_type": "code",
      "source": [
        "# 3. Analisar as primeiras linhas do arquivo bem como o shape do dataframe\n",
        "\n",
        "ratings.head"
      ],
      "metadata": {
        "colab": {
          "base_uri": "https://localhost:8080/"
        },
        "id": "CMBUKU92Pm5q",
        "outputId": "fbd897b4-5d77-454c-89e4-38700327f7b5"
      },
      "execution_count": null,
      "outputs": [
        {
          "output_type": "execute_result",
          "data": {
            "text/plain": [
              "<bound method NDFrame.head of         userId  movieId  rating   timestamp\n",
              "0            1        1     4.0   964982703\n",
              "1            1        3     4.0   964981247\n",
              "2            1        6     4.0   964982224\n",
              "3            1       47     5.0   964983815\n",
              "4            1       50     5.0   964982931\n",
              "...        ...      ...     ...         ...\n",
              "100831     610   166534     4.0  1493848402\n",
              "100832     610   168248     5.0  1493850091\n",
              "100833     610   168250     5.0  1494273047\n",
              "100834     610   168252     5.0  1493846352\n",
              "100835     610   170875     3.0  1493846415\n",
              "\n",
              "[100836 rows x 4 columns]>"
            ]
          },
          "metadata": {},
          "execution_count": 72
        }
      ]
    },
    {
      "cell_type": "code",
      "source": [
        "print('linhas x colunas')\n",
        "print(f'{ratings.shape}')"
      ],
      "metadata": {
        "colab": {
          "base_uri": "https://localhost:8080/"
        },
        "id": "M8TCgAGbPTHq",
        "outputId": "05b56bdf-4736-4f54-ec70-25e36fd1337b"
      },
      "execution_count": null,
      "outputs": [
        {
          "output_type": "stream",
          "name": "stdout",
          "text": [
            "linhas x colunas\n",
            "(100836, 4)\n"
          ]
        }
      ]
    },
    {
      "cell_type": "code",
      "source": [
        "# 4. Sobrescrever os nomes das colunas\n",
        "\n",
        "col_names = ['ID','ID_filme','Nota','Data']\n",
        "ratings = pd.read_csv('../ratings.csv', names = col_names)\n",
        "ratings.columns"
      ],
      "metadata": {
        "colab": {
          "base_uri": "https://localhost:8080/"
        },
        "id": "2cuT75a3UXfZ",
        "outputId": "901e3890-54e0-4220-ff7e-85e5492b2f74"
      },
      "execution_count": null,
      "outputs": [
        {
          "output_type": "execute_result",
          "data": {
            "text/plain": [
              "Index(['ID', 'ID_filme', 'Nota', 'Data'], dtype='object')"
            ]
          },
          "metadata": {},
          "execution_count": 74
        }
      ]
    },
    {
      "cell_type": "code",
      "source": [
        "# 5. Analisar os valores únicos da coluna que contém a nota\n",
        "\n",
        "print(ratings.drop_duplicates(subset = \"Nota\"))"
      ],
      "metadata": {
        "colab": {
          "base_uri": "https://localhost:8080/"
        },
        "id": "7mLok7O7Uaaz",
        "outputId": "d0349548-0057-4a81-83da-9b248aaccfb6"
      },
      "execution_count": null,
      "outputs": [
        {
          "output_type": "stream",
          "name": "stdout",
          "text": [
            "         ID ID_filme    Nota        Data\n",
            "0    userId  movieId  rating   timestamp\n",
            "1         1        1     4.0   964982703\n",
            "4         1       47     5.0   964983815\n",
            "6         1       70     3.0   964982400\n",
            "77        1     1219     2.0   964983393\n",
            "206       1     3176     1.0   964983504\n",
            "235       2     1704     4.5  1445715228\n",
            "238       2     8798     3.5  1445714960\n",
            "253       2    91658     2.5  1445714938\n",
            "262       3       31     0.5  1306463578\n",
            "897       7     1183     1.5  1106712613\n"
          ]
        }
      ]
    },
    {
      "cell_type": "code",
      "source": [
        "# 6. Contar a quantidade de notas aplicadas para cada valor único de nota (value_counts())\n",
        "\n",
        "print('nota  x  qtd_filmes')\n",
        "print(ratings['Nota'].value_counts())"
      ],
      "metadata": {
        "colab": {
          "base_uri": "https://localhost:8080/"
        },
        "id": "TpaI_Il3ZX-L",
        "outputId": "2054fa72-5a82-4d44-c7bc-681722f56121"
      },
      "execution_count": null,
      "outputs": [
        {
          "output_type": "stream",
          "name": "stdout",
          "text": [
            "nota  x  qtd_filmes\n",
            "4.0       26818\n",
            "3.0       20047\n",
            "5.0       13211\n",
            "3.5       13136\n",
            "4.5        8551\n",
            "2.0        7551\n",
            "2.5        5550\n",
            "1.0        2811\n",
            "1.5        1791\n",
            "0.5        1370\n",
            "rating        1\n",
            "Name: Nota, dtype: int64\n"
          ]
        }
      ]
    },
    {
      "cell_type": "code",
      "source": [
        "# 7. Analisar a média das notas dos filmes\n",
        "\n",
        "ratings['Nota'] = pd.to_numeric(ratings['Nota'], errors = 'coerce')\n",
        "print(f'A média das notas foi', ratings['Nota'].mean())"
      ],
      "metadata": {
        "colab": {
          "base_uri": "https://localhost:8080/"
        },
        "id": "XLOxiOfKcRvZ",
        "outputId": "b4d2435c-ec2b-4bf3-9008-e9efbc5e96a9"
      },
      "execution_count": null,
      "outputs": [
        {
          "output_type": "stream",
          "name": "stdout",
          "text": [
            "A média das notas foi 3.501556983616962\n"
          ]
        }
      ]
    }
  ]
}